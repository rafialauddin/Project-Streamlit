{
  "cells": [
    {
      "cell_type": "markdown",
      "metadata": {
        "id": "H9wADwK78DCz"
      },
      "source": [
        "# Proyek Analisis Data: [Input Nama Dataset]\n",
        "- **Nama:** Rafi Alauddin\n",
        "- **Email:** rafialauddin2014@gmail.com\n",
        "- **ID Dicoding:** rafi_alauddin_X6We"
      ]
    },
    {
      "cell_type": "markdown",
      "metadata": {
        "id": "eE0raob58DC0"
      },
      "source": [
        "## Menentukan Pertanyaan Bisnis"
      ]
    },
    {
      "cell_type": "markdown",
      "metadata": {
        "id": "GmQeQ5YF8DC0"
      },
      "source": [
        "- Barang Apa Saja Product yang Paling Laku dalam E-Commerce?\n",
        "- Bagaimana Penjualan Masing-Masing Product dari Tahun ke Tahun?"
      ]
    },
    {
      "cell_type": "markdown",
      "metadata": {
        "id": "H-z4QGlO8DC1"
      },
      "source": [
        "## Import Semua Packages/Library yang Digunakan"
      ]
    },
    {
      "cell_type": "code",
      "execution_count": 9,
      "metadata": {
        "id": "FVYwaObI8DC1"
      },
      "outputs": [],
      "source": [
        "import pandas as pd\n",
        "import streamlit as st\n",
        "import matplotlib.pyplot as plt\n",
        "import plotly.express as px\n",
        "import plotly.io as pio"
      ]
    },
    {
      "cell_type": "markdown",
      "metadata": {
        "id": "h_Sh51Xy8DC1"
      },
      "source": [
        "## Data Wrangling"
      ]
    },
    {
      "cell_type": "markdown",
      "metadata": {
        "id": "sXU2GBYu8DC1"
      },
      "source": [
        "### Gathering Data"
      ]
    },
    {
      "cell_type": "code",
      "execution_count": 3,
      "metadata": {
        "id": "zjCBk1BI8DC1"
      },
      "outputs": [],
      "source": [
        "orders_df = pd.read_csv('https://raw.githubusercontent.com/rafialauddin/Project-Streamlit/main/E-Commerce%20Public%20Dataset/orders_dataset.csv')\n",
        "order_items_df = pd.read_csv('https://raw.githubusercontent.com/rafialauddin/Project-Streamlit/main/E-Commerce%20Public%20Dataset/order_items_dataset.csv')\n",
        "products_df = pd.read_csv('https://raw.githubusercontent.com/rafialauddin/Project-Streamlit/main/E-Commerce%20Public%20Dataset/products_dataset.csv')\n",
        "products_name_df = pd.read_csv('https://raw.githubusercontent.com/rafialauddin/Project-Streamlit/main/E-Commerce%20Public%20Dataset/products_dataset.csv')\n",
        "products_name_english_df = pd.read_csv('https://raw.githubusercontent.com/rafialauddin/Project-Streamlit/main/E-Commerce%20Public%20Dataset/product_category_name_translation.csv')\n",
        "\n",
        "new_order_df = pd.merge(orders_df, \n",
        "                        order_items_df[[\"order_id\", \"order_item_id\",\"product_id\", \"seller_id\"]], \n",
        "                        on='order_id', \n",
        "                        how='inner')\n",
        "\n",
        "order_with_products_name_df = pd.merge(new_order_df, \n",
        "                        products_df[[\"product_id\", \"product_category_name\"]], \n",
        "                        on='product_id', \n",
        "                        how='inner')\n",
        "\n",
        "order_with_products_name_english_df = pd.merge(order_with_products_name_df, \n",
        "                        products_name_english_df, \n",
        "                        on='product_category_name', \n",
        "                        how='inner')"
      ]
    },
    {
      "cell_type": "markdown",
      "metadata": {
        "id": "FHSiqaZp8DC1"
      },
      "source": [
        "### Assessing Data"
      ]
    },
    {
      "cell_type": "code",
      "execution_count": 4,
      "metadata": {
        "id": "ax-3tEjc9Cj1"
      },
      "outputs": [
        {
          "name": "stdout",
          "output_type": "stream",
          "text": [
            "Duplikasi:\n",
            "0\n",
            "\n",
            "Missing Values : \n",
            "order_id                            0\n",
            "customer_id                         0\n",
            "order_status                        0\n",
            "order_purchase_timestamp            0\n",
            "order_approved_at                  14\n",
            "order_delivered_carrier_date     1155\n",
            "order_delivered_customer_date    2386\n",
            "order_estimated_delivery_date       0\n",
            "order_item_id                       0\n",
            "product_id                          0\n",
            "seller_id                           0\n",
            "product_category_name               0\n",
            "product_category_name_english       0\n",
            "dtype: int64\n"
          ]
        }
      ],
      "source": [
        "# Menampilkan nama kolom di DataFrame hasil\n",
        "duplikasi = order_with_products_name_english_df.duplicated().sum()\n",
        "\n",
        "# Menampilkan baris yang merupakan duplikasi\n",
        "print(\"Duplikasi:\")\n",
        "print(duplikasi)\n",
        "\n",
        "# Menampilkan Missing Values\n",
        "print(\"\\nMissing Values : \")\n",
        "print(order_with_products_name_english_df.isna().sum())\n",
        "\n",
        "# Konversi Tanggal\n",
        "order_with_products_name_english_df['order_approved_at'] = pd.to_datetime(order_with_products_name_english_df['order_approved_at'], format='%Y-%m-%d %H:%M:%S')"
      ]
    },
    {
      "cell_type": "markdown",
      "metadata": {
        "id": "EhN5R4hr8DC1"
      },
      "source": [
        "### Cleaning Data"
      ]
    },
    {
      "cell_type": "code",
      "execution_count": 5,
      "metadata": {
        "id": "jVnYpprE9Evz"
      },
      "outputs": [],
      "source": [
        "# Menghapus Duplikasi\n",
        "order_with_products_name_english_df = order_with_products_name_english_df.drop_duplicates()\n",
        "\n",
        "# Menghapus Kolom yang terdapat Missing Values menggunakan teknik Dropping\n",
        "# Notes : Data yang dihapus adalah missing values yang masih belum pada tahap pengiriman (asumsikan barang masih dalam perjalanan sehingga data belum tercatat)\n",
        "order_with_products_name_english_df = order_with_products_name_english_df.dropna(subset=['order_delivered_carrier_date'])\n",
        "order_with_products_name_english_df = order_with_products_name_english_df.dropna(subset=['order_approved_at'])"
      ]
    },
    {
      "cell_type": "markdown",
      "metadata": {
        "id": "gp-Y6wU38DC1"
      },
      "source": [
        "## Exploratory Data Analysis (EDA)"
      ]
    },
    {
      "cell_type": "markdown",
      "metadata": {
        "id": "MW7WF2kr8DC1"
      },
      "source": [
        "### Explore ..."
      ]
    },
    {
      "cell_type": "code",
      "execution_count": 6,
      "metadata": {
        "id": "e9CQCZjk8DC2"
      },
      "outputs": [
        {
          "name": "stdout",
          "output_type": "stream",
          "text": [
            "\n",
            "Penjualan Product Terbanyak Sejak  2016  Sampai  2018\n",
            "   product_category_name_english  order_item_id\n",
            "7                 bed_bath_table          13620\n",
            "39               furniture_decor          11398\n",
            "43                 health_beauty          10999\n",
            "65                sports_leisure           9817\n",
            "15         computers_accessories           9746\n",
            "..                           ...            ...\n",
            "3          arts_and_craftmanship             26\n",
            "11             cds_dvds_musicals             16\n",
            "52                    la_cuisine             16\n",
            "29     fashion_childrens_clothes              7\n",
            "61         security_and_services              2\n",
            "\n",
            "[71 rows x 2 columns]\n"
          ]
        }
      ],
      "source": [
        "# Mengambil tahun minimum dan maksimum\n",
        "tahun_minimum = order_with_products_name_english_df['order_approved_at'].min().year\n",
        "tahun_maksimum = order_with_products_name_english_df['order_approved_at'].max().year\n",
        "\n",
        "# EDA\n",
        "print(\"\\nPenjualan Product Terbanyak Sejak \", tahun_minimum,\" Sampai \", tahun_maksimum)\n",
        "total_penjualan = order_with_products_name_english_df.groupby('product_category_name_english')['order_item_id'].sum().reset_index().sort_values(by='order_item_id', ascending=False)\n",
        "print(total_penjualan)\n",
        "\n",
        "# Mengambil Top 20 Items\n",
        "top_20_items = total_penjualan.nlargest(20, 'order_item_id')\n",
        "# Aliasing Nama Kolom\n",
        "total_penjualan = total_penjualan.rename(columns={'order_item_id': 'Total_Sales'})\n",
        "total_penjualan = total_penjualan.rename(columns={'product_category_name_english': 'Products_Name'})\n",
        "top_20_items = top_20_items.rename(columns={'order_item_id': 'Total_Sales'})\n",
        "top_20_items = top_20_items.rename(columns={'product_category_name_english': 'Products_Name'})\n",
        "# Sorting\n",
        "top_20_items = top_20_items.sort_values(by='Total_Sales', ascending=True)"
      ]
    },
    {
      "cell_type": "markdown",
      "metadata": {
        "id": "zsyZjqak8DC2"
      },
      "source": [
        "## Visualization & Explanatory Analysis"
      ]
    },
    {
      "cell_type": "markdown",
      "metadata": {
        "id": "HZxOiQ6n8DC2"
      },
      "source": [
        "### Pertanyaan 1:"
      ]
    },
    {
      "cell_type": "code",
      "execution_count": 13,
      "metadata": {
        "id": "1swJUdAD8DC2"
      },
      "outputs": [
        {
          "data": {
            "application/vnd.plotly.v1+json": {
              "config": {
                "plotlyServerURL": "https://plot.ly"
              },
              "data": [
                {
                  "alignmentgroup": "True",
                  "hovertemplate": "Total_Sales=%{x}<br>Products_Name=%{y}<extra></extra>",
                  "legendgroup": "",
                  "marker": {
                    "color": "rgb(158,202,225)",
                    "line": {
                      "color": "rgb(8,48,107)",
                      "width": 3
                    },
                    "pattern": {
                      "shape": ""
                    }
                  },
                  "name": "",
                  "offsetgroup": "",
                  "opacity": 0.6,
                  "orientation": "h",
                  "showlegend": false,
                  "text": [
                    1279,
                    2243,
                    2266,
                    2520,
                    2784,
                    3063,
                    3367,
                    3748,
                    4040,
                    4385,
                    4817,
                    5096,
                    5818,
                    6536,
                    8915,
                    9746,
                    9817,
                    10999,
                    11398,
                    13620
                  ],
                  "textposition": "auto",
                  "type": "bar",
                  "x": [
                    1279,
                    2243,
                    2266,
                    2520,
                    2784,
                    3063,
                    3367,
                    3748,
                    4040,
                    4385,
                    4817,
                    5096,
                    5818,
                    6536,
                    8915,
                    9746,
                    9817,
                    10999,
                    11398,
                    13620
                  ],
                  "xaxis": "x",
                  "y": [
                    "construction_tools_construction",
                    "fashion_bags_accessories",
                    "pet_shop",
                    "office_furniture",
                    "stationery",
                    "electronics",
                    "baby",
                    "perfumery",
                    "cool_stuff",
                    "toys",
                    "auto",
                    "telephony",
                    "garden_tools",
                    "watches_gifts",
                    "housewares",
                    "computers_accessories",
                    "sports_leisure",
                    "health_beauty",
                    "furniture_decor",
                    "bed_bath_table"
                  ],
                  "yaxis": "y"
                }
              ],
              "layout": {
                "bargap": 0.1,
                "barmode": "relative",
                "font": {
                  "color": "black",
                  "family": "Arial",
                  "size": 10
                },
                "height": 600,
                "legend": {
                  "tracegroupgap": 0
                },
                "template": {
                  "data": {
                    "candlestick": [
                      {
                        "decreasing": {
                          "line": {
                            "color": "#000033"
                          }
                        },
                        "increasing": {
                          "line": {
                            "color": "#000032"
                          }
                        },
                        "type": "candlestick"
                      }
                    ],
                    "contour": [
                      {
                        "colorscale": [
                          [
                            0,
                            "#000011"
                          ],
                          [
                            0.1111111111111111,
                            "#000012"
                          ],
                          [
                            0.2222222222222222,
                            "#000013"
                          ],
                          [
                            0.3333333333333333,
                            "#000014"
                          ],
                          [
                            0.4444444444444444,
                            "#000015"
                          ],
                          [
                            0.5555555555555556,
                            "#000016"
                          ],
                          [
                            0.6666666666666666,
                            "#000017"
                          ],
                          [
                            0.7777777777777778,
                            "#000018"
                          ],
                          [
                            0.8888888888888888,
                            "#000019"
                          ],
                          [
                            1,
                            "#000020"
                          ]
                        ],
                        "type": "contour"
                      }
                    ],
                    "contourcarpet": [
                      {
                        "colorscale": [
                          [
                            0,
                            "#000011"
                          ],
                          [
                            0.1111111111111111,
                            "#000012"
                          ],
                          [
                            0.2222222222222222,
                            "#000013"
                          ],
                          [
                            0.3333333333333333,
                            "#000014"
                          ],
                          [
                            0.4444444444444444,
                            "#000015"
                          ],
                          [
                            0.5555555555555556,
                            "#000016"
                          ],
                          [
                            0.6666666666666666,
                            "#000017"
                          ],
                          [
                            0.7777777777777778,
                            "#000018"
                          ],
                          [
                            0.8888888888888888,
                            "#000019"
                          ],
                          [
                            1,
                            "#000020"
                          ]
                        ],
                        "type": "contourcarpet"
                      }
                    ],
                    "heatmap": [
                      {
                        "colorscale": [
                          [
                            0,
                            "#000011"
                          ],
                          [
                            0.1111111111111111,
                            "#000012"
                          ],
                          [
                            0.2222222222222222,
                            "#000013"
                          ],
                          [
                            0.3333333333333333,
                            "#000014"
                          ],
                          [
                            0.4444444444444444,
                            "#000015"
                          ],
                          [
                            0.5555555555555556,
                            "#000016"
                          ],
                          [
                            0.6666666666666666,
                            "#000017"
                          ],
                          [
                            0.7777777777777778,
                            "#000018"
                          ],
                          [
                            0.8888888888888888,
                            "#000019"
                          ],
                          [
                            1,
                            "#000020"
                          ]
                        ],
                        "type": "heatmap"
                      }
                    ],
                    "histogram2d": [
                      {
                        "colorscale": [
                          [
                            0,
                            "#000011"
                          ],
                          [
                            0.1111111111111111,
                            "#000012"
                          ],
                          [
                            0.2222222222222222,
                            "#000013"
                          ],
                          [
                            0.3333333333333333,
                            "#000014"
                          ],
                          [
                            0.4444444444444444,
                            "#000015"
                          ],
                          [
                            0.5555555555555556,
                            "#000016"
                          ],
                          [
                            0.6666666666666666,
                            "#000017"
                          ],
                          [
                            0.7777777777777778,
                            "#000018"
                          ],
                          [
                            0.8888888888888888,
                            "#000019"
                          ],
                          [
                            1,
                            "#000020"
                          ]
                        ],
                        "type": "histogram2d"
                      }
                    ],
                    "icicle": [
                      {
                        "textfont": {
                          "color": "white"
                        },
                        "type": "icicle"
                      }
                    ],
                    "sankey": [
                      {
                        "textfont": {
                          "color": "#000036"
                        },
                        "type": "sankey"
                      }
                    ],
                    "scatter": [
                      {
                        "marker": {
                          "line": {
                            "width": 0
                          }
                        },
                        "type": "scatter"
                      }
                    ],
                    "table": [
                      {
                        "cells": {
                          "fill": {
                            "color": "#000038"
                          },
                          "font": {
                            "color": "#000037"
                          },
                          "line": {
                            "color": "#000039"
                          }
                        },
                        "header": {
                          "fill": {
                            "color": "#000040"
                          },
                          "font": {
                            "color": "#000036"
                          },
                          "line": {
                            "color": "#000039"
                          }
                        },
                        "type": "table"
                      }
                    ],
                    "waterfall": [
                      {
                        "connector": {
                          "line": {
                            "color": "#000036",
                            "width": 2
                          }
                        },
                        "decreasing": {
                          "marker": {
                            "color": "#000033"
                          }
                        },
                        "increasing": {
                          "marker": {
                            "color": "#000032"
                          }
                        },
                        "totals": {
                          "marker": {
                            "color": "#000034"
                          }
                        },
                        "type": "waterfall"
                      }
                    ]
                  },
                  "layout": {
                    "coloraxis": {
                      "colorscale": [
                        [
                          0,
                          "#000011"
                        ],
                        [
                          0.1111111111111111,
                          "#000012"
                        ],
                        [
                          0.2222222222222222,
                          "#000013"
                        ],
                        [
                          0.3333333333333333,
                          "#000014"
                        ],
                        [
                          0.4444444444444444,
                          "#000015"
                        ],
                        [
                          0.5555555555555556,
                          "#000016"
                        ],
                        [
                          0.6666666666666666,
                          "#000017"
                        ],
                        [
                          0.7777777777777778,
                          "#000018"
                        ],
                        [
                          0.8888888888888888,
                          "#000019"
                        ],
                        [
                          1,
                          "#000020"
                        ]
                      ]
                    },
                    "colorscale": {
                      "diverging": [
                        [
                          0,
                          "#000021"
                        ],
                        [
                          0.1,
                          "#000022"
                        ],
                        [
                          0.2,
                          "#000023"
                        ],
                        [
                          0.3,
                          "#000024"
                        ],
                        [
                          0.4,
                          "#000025"
                        ],
                        [
                          0.5,
                          "#000026"
                        ],
                        [
                          0.6,
                          "#000027"
                        ],
                        [
                          0.7,
                          "#000028"
                        ],
                        [
                          0.8,
                          "#000029"
                        ],
                        [
                          0.9,
                          "#000030"
                        ],
                        [
                          1,
                          "#000031"
                        ]
                      ],
                      "sequential": [
                        [
                          0,
                          "#000011"
                        ],
                        [
                          0.1111111111111111,
                          "#000012"
                        ],
                        [
                          0.2222222222222222,
                          "#000013"
                        ],
                        [
                          0.3333333333333333,
                          "#000014"
                        ],
                        [
                          0.4444444444444444,
                          "#000015"
                        ],
                        [
                          0.5555555555555556,
                          "#000016"
                        ],
                        [
                          0.6666666666666666,
                          "#000017"
                        ],
                        [
                          0.7777777777777778,
                          "#000018"
                        ],
                        [
                          0.8888888888888888,
                          "#000019"
                        ],
                        [
                          1,
                          "#000020"
                        ]
                      ],
                      "sequentialminus": [
                        [
                          0,
                          "#000011"
                        ],
                        [
                          0.1111111111111111,
                          "#000012"
                        ],
                        [
                          0.2222222222222222,
                          "#000013"
                        ],
                        [
                          0.3333333333333333,
                          "#000014"
                        ],
                        [
                          0.4444444444444444,
                          "#000015"
                        ],
                        [
                          0.5555555555555556,
                          "#000016"
                        ],
                        [
                          0.6666666666666666,
                          "#000017"
                        ],
                        [
                          0.7777777777777778,
                          "#000018"
                        ],
                        [
                          0.8888888888888888,
                          "#000019"
                        ],
                        [
                          1,
                          "#000020"
                        ]
                      ]
                    },
                    "colorway": [
                      "#000001",
                      "#000002",
                      "#000003",
                      "#000004",
                      "#000005",
                      "#000006",
                      "#000007",
                      "#000008",
                      "#000009",
                      "#000010"
                    ]
                  }
                },
                "title": {
                  "text": "Data 20 Product Terlaris"
                },
                "width": 800,
                "xaxis": {
                  "anchor": "y",
                  "domain": [
                    0,
                    1
                  ],
                  "title": {
                    "text": "Total Penjualan"
                  }
                },
                "yaxis": {
                  "anchor": "x",
                  "domain": [
                    0,
                    1
                  ],
                  "title": {
                    "text": "Nama Produk"
                  }
                }
              }
            }
          },
          "metadata": {},
          "output_type": "display_data"
        }
      ],
      "source": [
        "st.set_page_config(\n",
        "    page_title=\"Aplikasi Penjualan Produk\",\n",
        "    page_icon=\":bar_chart:\",\n",
        "    layout=\"wide\",\n",
        "    initial_sidebar_state=\"expanded\",\n",
        ")\n",
        "\n",
        "# Judul aplikasi\n",
        "st.title(\"Visualisasi Data E-Commerce\")\n",
        "\n",
        "# Menampilkan DataFrame\n",
        "st.write(\"Data Penjualan Produk Terbanyak:\")\n",
        "st.dataframe(total_penjualan)\n",
        "\n",
        "# Visualisasi menggunakan Plotly\n",
        "\n",
        "fig = px.bar(top_20_items, x='Total_Sales', y='Products_Name', title='Data 20 Product Terlaris')\n",
        "fig.update_layout(\n",
        "    xaxis_title='Total Penjualan',\n",
        "    yaxis_title='Nama Produk',\n",
        "    font=dict(family='Arial', size=10, color='black'),\n",
        "    bargap=0.1,\n",
        "    height=600,  \n",
        "    width=800,   \n",
        ")\n",
        "fig.update_traces(marker_color='rgb(158,202,225)', marker_line_color='rgb(8,48,107)',\n",
        "                  marker_line_width=3, opacity=0.6, text=top_20_items['Total_Sales'])\n",
        "\n",
        "st.plotly_chart(fig)\n",
        "\n",
        "# Menampilkan pada Notebook\n",
        "pio.show(fig)\n",
        "\n",
        "# Rentang waktu penjualan\n",
        "st.write(f\"Penjualan Product Terbanyak Sejak {tahun_minimum} Sampai {tahun_maksimum}\")\n",
        "\n",
        "# Analisis atau penjelasan tambahan tentang data penjualan\n",
        "st.write(\"Dapat dilihat pada tabel diatas bahwa kategori product terlaris dalam situs ini adalah Bed Bath n Table. Dalam 2 tahun, kategori ini laku sebanyak 13.620 items. Selanjutnya kita dapat melihat product dekorasi dan furniture merupakan penyumbang market ke-2 dalam e-commerce ini dengan 11.398 items terjual. Berdasarkan visualisasi data yang dapat dilihat, kita dapat simpulkan bahwa E-Commerce ini sangat baik untuk membeli keperluan-keperluan rumah tangga seperti perabot, dan aksesoris lainnya.\")\n",
        "\n",
        "### Pertanyaan 2:"
      ]
    },
    {
      "cell_type": "code",
      "execution_count": 14,
      "metadata": {
        "id": "Go0lCsvO8DC2"
      },
      "outputs": [
        {
          "name": "stderr",
          "output_type": "stream",
          "text": [
            "C:\\Users\\lenovo\\AppData\\Local\\Temp\\ipykernel_13556\\1728651121.py:8: SettingWithCopyWarning:\n",
            "\n",
            "\n",
            "A value is trying to be set on a copy of a slice from a DataFrame.\n",
            "Try using .loc[row_indexer,col_indexer] = value instead\n",
            "\n",
            "See the caveats in the documentation: https://pandas.pydata.org/pandas-docs/stable/user_guide/indexing.html#returning-a-view-versus-a-copy\n",
            "\n",
            "C:\\Users\\lenovo\\AppData\\Local\\Temp\\ipykernel_13556\\1728651121.py:11: SettingWithCopyWarning:\n",
            "\n",
            "\n",
            "A value is trying to be set on a copy of a slice from a DataFrame.\n",
            "Try using .loc[row_indexer,col_indexer] = value instead\n",
            "\n",
            "See the caveats in the documentation: https://pandas.pydata.org/pandas-docs/stable/user_guide/indexing.html#returning-a-view-versus-a-copy\n",
            "\n"
          ]
        },
        {
          "data": {
            "application/vnd.plotly.v1+json": {
              "config": {
                "plotlyServerURL": "https://plot.ly"
              },
              "data": [
                {
                  "hovertemplate": "Tanggal=%{x}<br>Total Penjualan=%{y}<extra></extra>",
                  "legendgroup": "",
                  "line": {
                    "color": "#000001",
                    "dash": "solid"
                  },
                  "marker": {
                    "symbol": "circle"
                  },
                  "mode": "lines",
                  "name": "",
                  "orientation": "v",
                  "showlegend": false,
                  "type": "scatter",
                  "x": [
                    "2016-10-01T00:00:00",
                    "2017-01-01T00:00:00",
                    "2017-02-01T00:00:00",
                    "2017-03-01T00:00:00",
                    "2017-04-01T00:00:00",
                    "2017-05-01T00:00:00",
                    "2017-06-01T00:00:00",
                    "2017-07-01T00:00:00",
                    "2017-08-01T00:00:00",
                    "2017-09-01T00:00:00",
                    "2017-10-01T00:00:00",
                    "2017-11-01T00:00:00",
                    "2017-12-01T00:00:00",
                    "2018-01-01T00:00:00",
                    "2018-02-01T00:00:00",
                    "2018-03-01T00:00:00",
                    "2018-04-01T00:00:00",
                    "2018-05-01T00:00:00",
                    "2018-06-01T00:00:00",
                    "2018-07-01T00:00:00",
                    "2018-08-01T00:00:00"
                  ],
                  "xaxis": "x",
                  "y": [
                    16,
                    37,
                    82,
                    245,
                    250,
                    370,
                    390,
                    349,
                    355,
                    297,
                    349,
                    515,
                    382,
                    393,
                    520,
                    528,
                    550,
                    906,
                    839,
                    764,
                    778
                  ],
                  "yaxis": "y"
                }
              ],
              "layout": {
                "font": {
                  "color": "black",
                  "family": "Arial",
                  "size": 12
                },
                "height": 600,
                "legend": {
                  "tracegroupgap": 0
                },
                "template": {
                  "data": {
                    "candlestick": [
                      {
                        "decreasing": {
                          "line": {
                            "color": "#000033"
                          }
                        },
                        "increasing": {
                          "line": {
                            "color": "#000032"
                          }
                        },
                        "type": "candlestick"
                      }
                    ],
                    "contour": [
                      {
                        "colorscale": [
                          [
                            0,
                            "#000011"
                          ],
                          [
                            0.1111111111111111,
                            "#000012"
                          ],
                          [
                            0.2222222222222222,
                            "#000013"
                          ],
                          [
                            0.3333333333333333,
                            "#000014"
                          ],
                          [
                            0.4444444444444444,
                            "#000015"
                          ],
                          [
                            0.5555555555555556,
                            "#000016"
                          ],
                          [
                            0.6666666666666666,
                            "#000017"
                          ],
                          [
                            0.7777777777777778,
                            "#000018"
                          ],
                          [
                            0.8888888888888888,
                            "#000019"
                          ],
                          [
                            1,
                            "#000020"
                          ]
                        ],
                        "type": "contour"
                      }
                    ],
                    "contourcarpet": [
                      {
                        "colorscale": [
                          [
                            0,
                            "#000011"
                          ],
                          [
                            0.1111111111111111,
                            "#000012"
                          ],
                          [
                            0.2222222222222222,
                            "#000013"
                          ],
                          [
                            0.3333333333333333,
                            "#000014"
                          ],
                          [
                            0.4444444444444444,
                            "#000015"
                          ],
                          [
                            0.5555555555555556,
                            "#000016"
                          ],
                          [
                            0.6666666666666666,
                            "#000017"
                          ],
                          [
                            0.7777777777777778,
                            "#000018"
                          ],
                          [
                            0.8888888888888888,
                            "#000019"
                          ],
                          [
                            1,
                            "#000020"
                          ]
                        ],
                        "type": "contourcarpet"
                      }
                    ],
                    "heatmap": [
                      {
                        "colorscale": [
                          [
                            0,
                            "#000011"
                          ],
                          [
                            0.1111111111111111,
                            "#000012"
                          ],
                          [
                            0.2222222222222222,
                            "#000013"
                          ],
                          [
                            0.3333333333333333,
                            "#000014"
                          ],
                          [
                            0.4444444444444444,
                            "#000015"
                          ],
                          [
                            0.5555555555555556,
                            "#000016"
                          ],
                          [
                            0.6666666666666666,
                            "#000017"
                          ],
                          [
                            0.7777777777777778,
                            "#000018"
                          ],
                          [
                            0.8888888888888888,
                            "#000019"
                          ],
                          [
                            1,
                            "#000020"
                          ]
                        ],
                        "type": "heatmap"
                      }
                    ],
                    "histogram2d": [
                      {
                        "colorscale": [
                          [
                            0,
                            "#000011"
                          ],
                          [
                            0.1111111111111111,
                            "#000012"
                          ],
                          [
                            0.2222222222222222,
                            "#000013"
                          ],
                          [
                            0.3333333333333333,
                            "#000014"
                          ],
                          [
                            0.4444444444444444,
                            "#000015"
                          ],
                          [
                            0.5555555555555556,
                            "#000016"
                          ],
                          [
                            0.6666666666666666,
                            "#000017"
                          ],
                          [
                            0.7777777777777778,
                            "#000018"
                          ],
                          [
                            0.8888888888888888,
                            "#000019"
                          ],
                          [
                            1,
                            "#000020"
                          ]
                        ],
                        "type": "histogram2d"
                      }
                    ],
                    "icicle": [
                      {
                        "textfont": {
                          "color": "white"
                        },
                        "type": "icicle"
                      }
                    ],
                    "sankey": [
                      {
                        "textfont": {
                          "color": "#000036"
                        },
                        "type": "sankey"
                      }
                    ],
                    "scatter": [
                      {
                        "marker": {
                          "line": {
                            "width": 0
                          }
                        },
                        "type": "scatter"
                      }
                    ],
                    "table": [
                      {
                        "cells": {
                          "fill": {
                            "color": "#000038"
                          },
                          "font": {
                            "color": "#000037"
                          },
                          "line": {
                            "color": "#000039"
                          }
                        },
                        "header": {
                          "fill": {
                            "color": "#000040"
                          },
                          "font": {
                            "color": "#000036"
                          },
                          "line": {
                            "color": "#000039"
                          }
                        },
                        "type": "table"
                      }
                    ],
                    "waterfall": [
                      {
                        "connector": {
                          "line": {
                            "color": "#000036",
                            "width": 2
                          }
                        },
                        "decreasing": {
                          "marker": {
                            "color": "#000033"
                          }
                        },
                        "increasing": {
                          "marker": {
                            "color": "#000032"
                          }
                        },
                        "totals": {
                          "marker": {
                            "color": "#000034"
                          }
                        },
                        "type": "waterfall"
                      }
                    ]
                  },
                  "layout": {
                    "coloraxis": {
                      "colorscale": [
                        [
                          0,
                          "#000011"
                        ],
                        [
                          0.1111111111111111,
                          "#000012"
                        ],
                        [
                          0.2222222222222222,
                          "#000013"
                        ],
                        [
                          0.3333333333333333,
                          "#000014"
                        ],
                        [
                          0.4444444444444444,
                          "#000015"
                        ],
                        [
                          0.5555555555555556,
                          "#000016"
                        ],
                        [
                          0.6666666666666666,
                          "#000017"
                        ],
                        [
                          0.7777777777777778,
                          "#000018"
                        ],
                        [
                          0.8888888888888888,
                          "#000019"
                        ],
                        [
                          1,
                          "#000020"
                        ]
                      ]
                    },
                    "colorscale": {
                      "diverging": [
                        [
                          0,
                          "#000021"
                        ],
                        [
                          0.1,
                          "#000022"
                        ],
                        [
                          0.2,
                          "#000023"
                        ],
                        [
                          0.3,
                          "#000024"
                        ],
                        [
                          0.4,
                          "#000025"
                        ],
                        [
                          0.5,
                          "#000026"
                        ],
                        [
                          0.6,
                          "#000027"
                        ],
                        [
                          0.7,
                          "#000028"
                        ],
                        [
                          0.8,
                          "#000029"
                        ],
                        [
                          0.9,
                          "#000030"
                        ],
                        [
                          1,
                          "#000031"
                        ]
                      ],
                      "sequential": [
                        [
                          0,
                          "#000011"
                        ],
                        [
                          0.1111111111111111,
                          "#000012"
                        ],
                        [
                          0.2222222222222222,
                          "#000013"
                        ],
                        [
                          0.3333333333333333,
                          "#000014"
                        ],
                        [
                          0.4444444444444444,
                          "#000015"
                        ],
                        [
                          0.5555555555555556,
                          "#000016"
                        ],
                        [
                          0.6666666666666666,
                          "#000017"
                        ],
                        [
                          0.7777777777777778,
                          "#000018"
                        ],
                        [
                          0.8888888888888888,
                          "#000019"
                        ],
                        [
                          1,
                          "#000020"
                        ]
                      ],
                      "sequentialminus": [
                        [
                          0,
                          "#000011"
                        ],
                        [
                          0.1111111111111111,
                          "#000012"
                        ],
                        [
                          0.2222222222222222,
                          "#000013"
                        ],
                        [
                          0.3333333333333333,
                          "#000014"
                        ],
                        [
                          0.4444444444444444,
                          "#000015"
                        ],
                        [
                          0.5555555555555556,
                          "#000016"
                        ],
                        [
                          0.6666666666666666,
                          "#000017"
                        ],
                        [
                          0.7777777777777778,
                          "#000018"
                        ],
                        [
                          0.8888888888888888,
                          "#000019"
                        ],
                        [
                          1,
                          "#000020"
                        ]
                      ]
                    },
                    "colorway": [
                      "#000001",
                      "#000002",
                      "#000003",
                      "#000004",
                      "#000005",
                      "#000006",
                      "#000007",
                      "#000008",
                      "#000009",
                      "#000010"
                    ]
                  }
                },
                "title": {
                  "text": "Tren Penjualan Produk housewares per Bulan"
                },
                "width": 800,
                "xaxis": {
                  "anchor": "y",
                  "domain": [
                    0,
                    1
                  ],
                  "dtick": "M1",
                  "tick0": "2016-10-01T00:00:00",
                  "tickformat": "%Y-%m",
                  "tickmode": "linear",
                  "title": {
                    "text": "Tanggal"
                  }
                },
                "yaxis": {
                  "anchor": "x",
                  "domain": [
                    0,
                    1
                  ],
                  "title": {
                    "text": "Total Penjualan"
                  }
                }
              }
            }
          },
          "metadata": {},
          "output_type": "display_data"
        },
        {
          "data": {
            "text/plain": [
              "DeltaGenerator()"
            ]
          },
          "execution_count": 14,
          "metadata": {},
          "output_type": "execute_result"
        }
      ],
      "source": [
        "st.header(\"Trend Penjualan Per-Product\")\n",
        "\n",
        "# Membuat Filter Selectbox\n",
        "produk_terpilih = st.selectbox('Pilih Produk:', order_with_products_name_english_df['product_category_name_english'].unique())\n",
        "filtered_df = order_with_products_name_english_df[order_with_products_name_english_df['product_category_name_english'] == produk_terpilih]\n",
        "\n",
        "# Konversi kolom datetime menjadi objek datetime Pandas\n",
        "filtered_df['order_approved_at'] = pd.to_datetime(filtered_df['order_approved_at'], format='%Y-%m-%d %H:%M:%S')\n",
        "\n",
        "# Mendapatkan timestamp hanya untuk tahun dan bulan\n",
        "filtered_df['order_approved_at'] = filtered_df['order_approved_at'].apply(lambda x: x.replace(day=1, hour=0, minute=0, second=0, microsecond=0).timestamp())\n",
        "\n",
        "# Membuat DataFrame dengan total penjualan per produk dan bulan\n",
        "total_penjualan_per_produk = filtered_df.groupby(['order_approved_at'])['order_item_id'].sum().reset_index()\n",
        "\n",
        "# Urutkan DataFrame secara ascending berdasarkan tahun dan bulan\n",
        "total_penjualan_per_produk = total_penjualan_per_produk.sort_values(by=['order_approved_at'], ascending=True)\n",
        "\n",
        "# Konversi timestamp kembali menjadi format tanggal\n",
        "total_penjualan_per_produk['order_approved_at'] = pd.to_datetime(total_penjualan_per_produk['order_approved_at'], unit='s')\n",
        "\n",
        "# Plotly Line Chart\n",
        "fig = px.line(total_penjualan_per_produk, x='order_approved_at', y='order_item_id',\n",
        "              title=f'Tren Penjualan Produk {produk_terpilih} per Bulan',\n",
        "              labels={'order_item_id': 'Total Penjualan', 'order_approved_at': 'Tanggal'})\n",
        "fig.update_layout(\n",
        "    xaxis_title='Tanggal',\n",
        "    yaxis_title='Total Penjualan',\n",
        "    font=dict(family='Arial', size=12, color='black'),\n",
        "    height=600,  # Atur tinggi grafik\n",
        "    width=800    # Atur lebar grafik\n",
        ")\n",
        "\n",
        "# Format sumbu x agar menampilkan bulan dan tanggal yang sesuai\n",
        "fig.update_xaxes(\n",
        "    tickformat=\"%Y-%m\",\n",
        "    tickmode=\"linear\",\n",
        "    tick0=total_penjualan_per_produk['order_approved_at'].min(),\n",
        "    dtick='M1',\n",
        ")\n",
        "\n",
        "st.plotly_chart(fig)\n",
        "\n",
        "# Menampilkan pada Notebook\n",
        "pio.show(fig)\n",
        "\n",
        "st.write(\"Dari Trendline diatas dapat kita lihat hampir pada semua kategori cenderung positif trend nya, artinya E-Commerce ini cukup sukses dalam pengembangan citra mereka. Namun meski begitu terdapat kategori-kategori yang cenderung menurun memasuki Q3 pada Tahun 2018 ini, mereka tetap harus mengevaluasi apa yang terjadi. Namun secara Overall E-Commerce ini sudah berjalan dengan trend yang positif\")\n",
        "\n",
        "# Tautan ke sumber data\n",
        "st.markdown(\"[Sumber Data](https://drive.google.com/drive/folders/18EYx4gz8U8SjR7lzY2HxJoN5aLnNWM_M)\")\n"
      ]
    },
    {
      "cell_type": "markdown",
      "metadata": {
        "id": "_WeHlCeX8DC2"
      },
      "source": [
        "## Conclusion"
      ]
    },
    {
      "cell_type": "markdown",
      "metadata": {
        "id": "ZTcyR48Y8DC2"
      },
      "source": [
        "- Dapat dilihat pada tabel diatas bahwa kategori product terlaris dalam situs ini adalah Bed Bath n Table. Dalam 2 tahun, kategori ini laku sebanyak 13.620 items. Selanjutnya kita dapat melihat product dekorasi dan furniture merupakan penyumbang market ke-2 dalam e-commerce ini dengan 11.398 items terjual. Berdasarkan visualisasi data yang dapat dilihat, kita dapat simpulkan bahwa E-Commerce ini sangat baik untuk membeli keperluan-keperluan rumah tangga seperti perabot, dan aksesoris lainnya.\n",
        "\n",
        "- Dari Trendline diatas dapat kita lihat hampir pada semua kategori cenderung positif trend nya, artinya E-Commerce ini cukup sukses dalam pengembangan citra mereka. Namun meski begitu terdapat kategori-kategori yang cenderung menurun memasuki Q3 pada Tahun 2018 ini, mereka tetap harus mengevaluasi apa yang terjadi. Namun secara Overall E-Commerce ini sudah berjalan dengan trend yang positif"
      ]
    }
  ],
  "metadata": {
    "colab": {
      "provenance": []
    },
    "kernelspec": {
      "display_name": "Python 3",
      "language": "python",
      "name": "python3"
    },
    "language_info": {
      "codemirror_mode": {
        "name": "ipython",
        "version": 3
      },
      "file_extension": ".py",
      "mimetype": "text/x-python",
      "name": "python",
      "nbconvert_exporter": "python",
      "pygments_lexer": "ipython3",
      "version": "3.10.0"
    },
    "orig_nbformat": 4,
    "vscode": {
      "interpreter": {
        "hash": "972b3bf27e332e87b5379f2791f6ef9dfc79c71018c370b0d7423235e20fe4d7"
      }
    }
  },
  "nbformat": 4,
  "nbformat_minor": 0
}
